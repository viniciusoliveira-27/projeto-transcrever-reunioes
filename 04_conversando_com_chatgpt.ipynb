{
 "cells": [
  {
   "cell_type": "code",
   "execution_count": 1,
   "id": "15113a86",
   "metadata": {},
   "outputs": [],
   "source": [
    "import openai\n",
    "from dotenv import load_dotenv, find_dotenv\n",
    "_ = load_dotenv(find_dotenv())\n",
    "\n",
    "client = openai.OpenAI()"
   ]
  },
  {
   "cell_type": "code",
   "execution_count": 2,
   "metadata": {},
   "outputs": [],
   "source": [
    "def chat_openai(\n",
    "        mensagens,\n",
    "        modelo='gpt-4o-mini-2024-07-18',\n",
    "        temperatura=0,\n",
    "        stream=False\n",
    "    ):\n",
    "    reposta = client.chat.completions.create(\n",
    "        model=modelo,\n",
    "        messages=mensagens,\n",
    "        temperature=temperatura,\n",
    "        stream=stream,\n",
    "        )\n",
    "    return reposta\n"
   ]
  },
  {
   "cell_type": "code",
   "execution_count": 3,
   "metadata": {},
   "outputs": [],
   "source": [
    "mensagens = [{'role': 'user', 'content': 'O que é uma maçã em até 5 palavras?'}]\n",
    "resposta = chat_openai(mensagens)"
   ]
  },
  {
   "cell_type": "code",
   "execution_count": 4,
   "metadata": {},
   "outputs": [
    {
     "data": {
      "text/plain": [
       "'Fruta redonda, suculenta e nutritiva.'"
      ]
     },
     "execution_count": 4,
     "metadata": {},
     "output_type": "execute_result"
    }
   ],
   "source": [
    "resposta.choices[0].message.content"
   ]
  },
  {
   "cell_type": "code",
   "execution_count": 5,
   "metadata": {},
   "outputs": [
    {
     "data": {
      "text/plain": [
       "[{'role': 'user', 'content': 'O que é uma maçã em até 5 palavras?'},\n",
       " {'role': 'assistant', 'content': 'Fruta redonda, suculenta e nutritiva.'}]"
      ]
     },
     "execution_count": 5,
     "metadata": {},
     "output_type": "execute_result"
    }
   ],
   "source": [
    "mensagens.append({'role': 'assistant', 'content': resposta.choices[0].message.content})\n",
    "mensagens"
   ]
  },
  {
   "cell_type": "code",
   "execution_count": 6,
   "metadata": {},
   "outputs": [
    {
     "data": {
      "text/plain": [
       "[{'role': 'user', 'content': 'O que é uma maçã em até 5 palavras?'},\n",
       " {'role': 'assistant', 'content': 'Fruta redonda, suculenta e nutritiva.'},\n",
       " {'role': 'user', 'content': 'E qual a sua cor?'}]"
      ]
     },
     "execution_count": 6,
     "metadata": {},
     "output_type": "execute_result"
    }
   ],
   "source": [
    "mensagens.append({'role': 'user', 'content': 'E qual a sua cor?'})\n",
    "mensagens"
   ]
  },
  {
   "cell_type": "code",
   "execution_count": 7,
   "metadata": {},
   "outputs": [
    {
     "data": {
      "text/plain": [
       "ChatCompletion(id='chatcmpl-BJ7btWcfvw5ym4Dvasgzwowi3FIAd', choices=[Choice(finish_reason='stop', index=0, logprobs=None, message=ChatCompletionMessage(content='A maçã pode ser vermelha, verde ou amarela.', refusal=None, role='assistant', annotations=[], audio=None, function_call=None, tool_calls=None))], created=1743897185, model='gpt-4o-mini-2024-07-18', object='chat.completion', service_tier='default', system_fingerprint='fp_b376dfbbd5', usage=CompletionUsage(completion_tokens=14, prompt_tokens=45, total_tokens=59, completion_tokens_details=CompletionTokensDetails(accepted_prediction_tokens=0, audio_tokens=0, reasoning_tokens=0, rejected_prediction_tokens=0), prompt_tokens_details=PromptTokensDetails(audio_tokens=0, cached_tokens=0)))"
      ]
     },
     "execution_count": 7,
     "metadata": {},
     "output_type": "execute_result"
    }
   ],
   "source": [
    "resposta = chat_openai(mensagens)\n",
    "resposta"
   ]
  },
  {
   "cell_type": "code",
   "execution_count": 8,
   "metadata": {},
   "outputs": [
    {
     "data": {
      "text/plain": [
       "'A maçã pode ser vermelha, verde ou amarela.'"
      ]
     },
     "execution_count": 8,
     "metadata": {},
     "output_type": "execute_result"
    }
   ],
   "source": [
    "resposta.choices[0].message.content"
   ]
  },
  {
   "cell_type": "code",
   "execution_count": 9,
   "metadata": {},
   "outputs": [
    {
     "name": "stdout",
     "output_type": "stream",
     "text": [
      "\n",
      "Fr\n",
      "uta\n",
      " red\n",
      "onda\n",
      ",\n",
      " su\n",
      "cul\n",
      "enta\n",
      " e\n",
      " nutrit\n",
      "iva\n",
      ".\n",
      "None\n"
     ]
    }
   ],
   "source": [
    "mensagens = [{'role': 'user', 'content': 'O que é uma maçã em até 5 palavras?'}]\n",
    "respostas = chat_openai(mensagens, stream=True)\n",
    "for resposta in respostas:\n",
    "    print(resposta.choices[0].delta.content)"
   ]
  },
  {
   "cell_type": "code",
   "execution_count": null,
   "metadata": {},
   "outputs": [],
   "source": []
  }
 ],
 "metadata": {
  "kernelspec": {
   "display_name": "Python 3",
   "language": "python",
   "name": "python3"
  },
  "language_info": {
   "codemirror_mode": {
    "name": "ipython",
    "version": 3
   },
   "file_extension": ".py",
   "mimetype": "text/x-python",
   "name": "python",
   "nbconvert_exporter": "python",
   "pygments_lexer": "ipython3",
   "version": "3.12.0"
  }
 },
 "nbformat": 4,
 "nbformat_minor": 5
}
