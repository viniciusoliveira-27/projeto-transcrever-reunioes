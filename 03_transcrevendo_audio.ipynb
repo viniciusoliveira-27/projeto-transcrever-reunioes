{
 "cells": [
  {
   "cell_type": "code",
   "execution_count": 1,
   "id": "15113a86",
   "metadata": {},
   "outputs": [],
   "source": [
    "import openai\n",
    "from dotenv import find_dotenv, load_dotenv\n",
    "_ = load_dotenv(find_dotenv())\n",
    "\n",
    "client = openai.OpenAI()"
   ]
  },
  {
   "cell_type": "code",
   "execution_count": 2,
   "metadata": {},
   "outputs": [],
   "source": [
    "def transcreve_audio(caminho_audio, language='pt', response_format='text'):\n",
    "    with open(caminho_audio, 'rb') as arquivo_audio:\n",
    "        transcricao = client.audio.transcriptions.create(\n",
    "            model='whisper-1',\n",
    "            language=language,\n",
    "            response_format=response_format,\n",
    "            file=arquivo_audio,\n",
    "        )\n",
    "    return transcricao"
   ]
  },
  {
   "cell_type": "code",
   "execution_count": 3,
   "metadata": {},
   "outputs": [
    {
     "data": {
      "text/plain": [
       "'Bom dia, Helena. Como tem sido o trabalho remoto para você? Bom dia, Carlos. No geral, tem sido uma transição interessante, mas confesso que sinto falta do ambiente do escritório e você. Compreendo. Para mim, a adaptação foi desafiadora no início, mas agora estou começando a apreciar os benefícios. Menos deslocamentos, mais flexibilidade são definitivamente pontos positivos. Concordo, mas às vezes sinto que a comunicação fica um pouco prejudicada. Não é a mesma coisa que discutir as coisas cara a cara. Sim, entendo. Estou tentando compensar isso com reuniões virtuais mais frequentes. Inclusive, acho que precisamos revisitar nossa estratégia de comunicação para garantir que todos estejam na mesma página. Boa ideia. Também tenho notado que, com o tempo, a fronteira entre vida profissional e pessoal está se tornando mais tênue. É um desafio separar os dois. Cumprindo totalmente. Talvez seja útil estabelecer horários mais rígidos para o trabalho e garantir que todos respeitem esses limites. Além disso, estou pensando em promover atividades virtuais para manter a equipe conectada de maneira informal.\\n'"
      ]
     },
     "execution_count": 3,
     "metadata": {},
     "output_type": "execute_result"
    }
   ],
   "source": [
    "transcreve_audio('audio.mp3', response_format='text')"
   ]
  },
  {
   "cell_type": "code",
   "execution_count": 4,
   "metadata": {},
   "outputs": [
    {
     "data": {
      "text/plain": [
       "'1\\n00:00:00,000 --> 00:00:06,000\\nBom dia, Helena. Como tem sido o trabalho remoto para você?\\n\\n2\\n00:00:06,000 --> 00:00:13,000\\nBom dia, Carlos. No geral, tem sido uma transição interessante, mas confesso que sinto falta do ambiente do escritório e você.\\n\\n3\\n00:00:13,000 --> 00:00:19,000\\nCompreendo. Para mim, a adaptação foi desafiadora no início, mas agora estou começando a apreciar os benefícios.\\n\\n4\\n00:00:19,000 --> 00:00:25,000\\nMenos deslocamentos, mais flexibilidade são definitivamente pontos positivos.\\n\\n5\\n00:00:25,000 --> 00:00:32,000\\nConcordo, mas às vezes sinto que a comunicação fica um pouco prejudicada. Não é a mesma coisa que discutir as coisas cara a cara.\\n\\n6\\n00:00:32,000 --> 00:00:37,000\\nSim, entendo. Estou tentando compensar isso com reuniões virtuais mais frequentes.\\n\\n7\\n00:00:37,000 --> 00:00:44,000\\nInclusive, acho que precisamos revisitar nossa estratégia de comunicação para garantir que todos estejam na mesma página.\\n\\n8\\n00:00:44,000 --> 00:00:50,000\\nBoa ideia. Também tenho notado que, com o tempo, a fronteira entre vida profissional e pessoal está se tornando mais tênue.\\n\\n9\\n00:00:50,000 --> 00:00:52,000\\nÉ um desafio separar os dois.\\n\\n10\\n00:00:52,000 --> 00:00:59,000\\nCumprindo totalmente. Talvez seja útil estabelecer horários mais rígidos para o trabalho e garantir que todos respeitem esses limites.\\n\\n11\\n00:00:59,000 --> 00:01:05,000\\nAlém disso, estou pensando em promover atividades virtuais para manter a equipe conectada de maneira informal.\\n\\n\\n'"
      ]
     },
     "execution_count": 4,
     "metadata": {},
     "output_type": "execute_result"
    }
   ],
   "source": [
    "transcreve_audio('audio.mp3', response_format='srt')"
   ]
  },
  {
   "cell_type": "code",
   "execution_count": null,
   "metadata": {},
   "outputs": [],
   "source": []
  }
 ],
 "metadata": {
  "kernelspec": {
   "display_name": "Python 3",
   "language": "python",
   "name": "python3"
  },
  "language_info": {
   "codemirror_mode": {
    "name": "ipython",
    "version": 3
   },
   "file_extension": ".py",
   "mimetype": "text/x-python",
   "name": "python",
   "nbconvert_exporter": "python",
   "pygments_lexer": "ipython3",
   "version": "3.12.0"
  }
 },
 "nbformat": 4,
 "nbformat_minor": 5
}
